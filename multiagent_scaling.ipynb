{
 "cells": [
  {
   "cell_type": "markdown",
   "id": "3b359025",
   "metadata": {},
   "source": [
    "# Trajectory planning for multi-agent systems"
   ]
  },
  {
   "cell_type": "markdown",
   "id": "5cf987f5",
   "metadata": {},
   "source": [
    "This notebook contains a scalable version of the multi-agent navigation case study with a simplified layout.\n",
    "\n",
    "This case study uses _merging_ of _PolyhedralContractCompounds_ and model checking by calling _contains_behavior_ for each possible next position.\n",
    "\n",
    "Some info on the number of operations:\n",
    "\n",
    "This happens once at the start:\n",
    "\n",
    "1. Swapping contract and collision contract -> merged\n",
    "\n",
    "This happens for each timestep:\n",
    "\n",
    "2. Each robot has a dynamics contract, they are merged by adding one at a time\n",
    "3. The resuting dynamics contract is merged again with the contract from 1.\n",
    "4. Then each possible next position (combination of all robots' positions) is checked using the contains_behavior function (I expect this to be the cause for the long run time as the number of possible next positions explodes when adding another robot - I would suggest sticking with 1 or 2 robots and increasing the length of the corridor $l_{corridor}$)."
   ]
  },
  {
   "cell_type": "code",
   "execution_count": 1,
   "id": "eb50b037",
   "metadata": {},
   "outputs": [],
   "source": [
    "%matplotlib inline\n",
    "import numpy as np\n",
    "from utils.multiagent_utils import (\n",
    "    Coord,\n",
    "    Robot,\n",
    "    distance,\n",
    "    get_collision_contract,\n",
    "    get_swapping_contract,\n",
    "    strategy_multiple_simple,\n",
    "    find_move_candidates_general\n",
    ")\n",
    "from utils.plotting_utils import plot_grid_world\n",
    "\n",
    "from pacti.iocontract import Var\n",
    "from pacti.contracts import PolyhedralIoContractCompound"
   ]
  },
  {
   "cell_type": "markdown",
   "id": "5b4d753e",
   "metadata": {},
   "source": [
    "### Create gridworld and robots"
   ]
  },
  {
   "cell_type": "markdown",
   "id": "104e7504",
   "metadata": {},
   "source": [
    "We will set up the grid world such that all robots start in the same lane as their respective goal such that the grid world is set up as a corridor, with the scaling parameters the number of robots $n_{robots}$ and the corridor length $l_{corridor}$.\n",
    "\n",
    "To visualize the setup:"
   ]
  },
  {
   "cell_type": "code",
   "execution_count": 2,
   "id": "e93e21a9",
   "metadata": {},
   "outputs": [
    {
     "data": {
      "image/png": "[encoded data removed]",
      "text/plain": [
       "<Figure size 640x480 with 1 Axes>"
      ]
     },
     "metadata": {},
     "output_type": "display_data"
    }
   ],
   "source": [
    "# Define the grid world dimensions\n",
    "n_robots = 5\n",
    "l_corridor = 3\n",
    "\n",
    "# Initialize the robots\n",
    "robots = []\n",
    "for i in range(n_robots):\n",
    "    robots.append(Robot(\"r\"+str(i), (0, i), (l_corridor-1, i)))\n",
    "\n",
    "plot_grid_world(l_corridor, n_robots, robots)"
   ]
  },
  {
   "cell_type": "markdown",
   "id": "2bc27790",
   "metadata": {},
   "source": [
    "### Define dynamics contracts for each robot per timestep\n",
    "The contracts are explained in detail in the multiagent.ipynb notebook."
   ]
  },
  {
   "cell_type": "code",
   "execution_count": 3,
   "id": "8c4afdae",
   "metadata": {},
   "outputs": [],
   "source": [
    "def get_dynamics_contract_robot(name: str, init_pos: Coord, timestep: int, grid_n: int, grid_m: int\n",
    ") -> PolyhedralIoContractCompound:  # noqa: WPS210\n",
    "    \"\"\"\n",
    "    Function to set up the contract encoding the dynamics for a single robot for the next timestep.\n",
    "\n",
    "    Args:\n",
    "        name: name of the robot\n",
    "        init_pos: current coordinates of the robot\n",
    "        timestep: current timestep\n",
    "\n",
    "    Returns:\n",
    "        Resulting contract compound that encodes the dynamics for the robot.\n",
    "    \"\"\"\n",
    "    x_str_0 = 'x_{0}_0'.format(name)\n",
    "    y_str_0 = 'y_{0}_0'.format(name)\n",
    "    x_str_1 = 'x_{0}_1'.format(name)\n",
    "    y_str_1 = 'y_{0}_1'.format(name)\n",
    "    t_0 = 't_0'\n",
    "    t_1 = 't_1'\n",
    "\n",
    "    contract = PolyhedralIoContractCompound.from_strings(\n",
    "        input_vars=[x_str_0, y_str_0, t_0],\n",
    "        output_vars=[x_str_1, y_str_1, t_1],\n",
    "        assumptions=[\n",
    "            [\n",
    "                \"{0} = {1}\".format(x_str_0, init_pos.x),\n",
    "                \"{0} = {1}\".format(y_str_0, init_pos.y),\n",
    "                \"{0} = {1}\".format(t_0, timestep),\n",
    "            ]\n",
    "        ],\n",
    "        guarantees=[\n",
    "            [\n",
    "                \"{0} - {1} = 1\".format(t_1, t_0),\n",
    "                \"{0} - {1} + {2} - {3} <= 1\".format(x_str_1, x_str_0, y_str_1, y_str_0),\n",
    "                \"{0} - {1} - {2} + {3} <= 1\".format(x_str_1, x_str_0, y_str_1, y_str_0),\n",
    "                \"-{0} + {1} + {2} - {3} <= 1\".format(x_str_1, x_str_0, y_str_1, y_str_0),\n",
    "                \"-{0} + {1} - {2} + {3} <= 1\".format(x_str_1, x_str_0, y_str_1, y_str_0),\n",
    "                \"{0} <= {1}\".format(x_str_1, grid_n - 1),\n",
    "                \"{0} <= {1}\".format(y_str_1, grid_m - 1),\n",
    "                \"-{0} <= 0\".format(x_str_1),\n",
    "                \"-{0} <= 0\".format(y_str_1),\n",
    "            ]\n",
    "        ],\n",
    "    )\n",
    "    return contract"
   ]
  },
  {
   "cell_type": "markdown",
   "id": "959e8914",
   "metadata": {},
   "source": [
    "### Extension to N robots and a grid length of L\n",
    "\n",
    "Choose the number of robots in $n_{robots}$ and the grid length in $l_{corridor}$. The maximum number of timesteps is set to be 3 times the grid length (as upper bound). The robots will be placed as shown in the visualization above. The function below does not produce any animation or save the trace of the simulation."
   ]
  },
  {
   "cell_type": "code",
   "execution_count": 6,
   "id": "f82c9beb",
   "metadata": {},
   "outputs": [
    {
     "data": {
      "image/png": "[encoded data removed]",
      "text/plain": [
       "<Figure size 640x480 with 1 Axes>"
      ]
     },
     "metadata": {},
     "output_type": "display_data"
    },
    {
     "name": "stdout",
     "output_type": "stream",
     "text": [
      "[(4, 0), (4, 1)]\n",
      "Taking move: [(1, 0), (1, 1)]\n",
      "[(4, 0), (4, 1)]\n",
      "Taking move: [(2, 0), (2, 1)]\n",
      "[(4, 0), (4, 1)]\n",
      "Taking move: [(3, 0), (3, 1)]\n",
      "[(4, 0), (4, 1)]\n",
      "Taking move: [(4, 0), (4, 1)]\n",
      "All robots reached their goal.\n"
     ]
    }
   ],
   "source": [
    "def run_sim(n_robots,l_corridor):\n",
    "    grid_n = l_corridor\n",
    "    grid_m = n_robots\n",
    "\n",
    "    # Initialize the robots\n",
    "    robots = []\n",
    "    for i in range(n_robots):\n",
    "        robots.append(Robot(\"r\"+str(i), (0, i), (l_corridor-1, i)))\n",
    "\n",
    "    plot_grid_world(l_corridor, n_robots, robots)\n",
    "\n",
    "    num_iter = l_corridor * 3 # estimated maximum time steps that it might take\n",
    "\n",
    "    # Get the contracts ensuring no conflicts\n",
    "    if n_robots > 1:\n",
    "        c_collision = get_collision_contract(robots)\n",
    "        c_swapping = get_swapping_contract(robots)\n",
    "        c_no_conflicts = c_collision.merge(c_swapping)\n",
    "\n",
    "    t_0 = 0\n",
    "\n",
    "    for _j in range(0, num_iter):  # noqa: WPS122\n",
    "        # merge the dynamics contracts\n",
    "\n",
    "        dynamics_contract = get_dynamics_contract_robot(robots[0].name, robots[0].pos, t_0, grid_n, grid_m)\n",
    "        for robot in robots[1:]:\n",
    "            contract = get_dynamics_contract_robot(robot.name, robot.pos, t_0, grid_n, grid_m)\n",
    "            dynamics_contract.merge(contract)\n",
    "\n",
    "        # merge dynamics with the no conflict contracts\n",
    "        if n_robots > 1:\n",
    "            multiagent_contract = dynamics_contract.merge(c_no_conflicts)\n",
    "        else:\n",
    "            multiagent_contract = dynamics_contract\n",
    "\n",
    "        moves_list, t_1 = find_move_candidates_general(grid_n, grid_m, robots, t_0, multiagent_contract)\n",
    "        goals = [robot.goal for robot in robots]\n",
    "        print([(goal.x, goal.y) for goal in goals])\n",
    "\n",
    "        move = strategy_multiple_simple(moves_list, goals)\n",
    "        print('Taking move: {}'.format(move))\n",
    "\n",
    "        for i,robot in enumerate(robots):\n",
    "            robot.move(move[i])\n",
    "\n",
    "        if distance([[robot.pos.x, robot.pos.y] for robot in robots], [robot.goal for robot in robots]) == 0:\n",
    "            print('All robots reached their goal.')\n",
    "            break\n",
    "            \n",
    "# Define the number of robots and grid size\n",
    "n_robots = 2\n",
    "l_corridor = 5\n",
    "run_sim(n_robots,l_corridor)"
   ]
  }
 ],
 "metadata": {
  "kernelspec": {
   "display_name": "Python 3 (ipykernel)",
   "language": "python",
   "name": "python3"
  },
  "language_info": {
   "codemirror_mode": {
    "name": "ipython",
    "version": 3
   },
   "file_extension": ".py",
   "mimetype": "text/x-python",
   "name": "python",
   "nbconvert_exporter": "python",
   "pygments_lexer": "ipython3",
   "version": "3.9.13"
  },
  "vscode": {
   "interpreter": {
    "hash": "b282b3e35ff361393169c4f355db145ffcb63e574f57c9818c827b7c99ca9fc3"
   }
  }
 },
 "nbformat": 4,
 "nbformat_minor": 5
}
